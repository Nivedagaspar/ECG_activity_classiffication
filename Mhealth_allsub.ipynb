{
 "cells": [
  {
   "cell_type": "code",
   "execution_count": 3,
   "id": "778b4d56",
   "metadata": {},
   "outputs": [],
   "source": [
    "import numpy as np\n",
    "import pandas as pd\n",
    "import seaborn as sns\n",
    "import matplotlib.pyplot as plt\n",
    "import tensorflow as tf\n",
    "from keras import layers\n",
    "import keras\n",
    " \n",
    "%matplotlib inline\n",
    "tf.random.set_seed(42)"
   ]
  },
  {
   "cell_type": "code",
   "execution_count": 4,
   "id": "800a0332",
   "metadata": {},
   "outputs": [
    {
     "data": {
      "text/html": [
       "<div>\n",
       "<style scoped>\n",
       "    .dataframe tbody tr th:only-of-type {\n",
       "        vertical-align: middle;\n",
       "    }\n",
       "\n",
       "    .dataframe tbody tr th {\n",
       "        vertical-align: top;\n",
       "    }\n",
       "\n",
       "    .dataframe thead th {\n",
       "        text-align: right;\n",
       "    }\n",
       "</style>\n",
       "<table border=\"1\" class=\"dataframe\">\n",
       "  <thead>\n",
       "    <tr style=\"text-align: right;\">\n",
       "      <th></th>\n",
       "      <th>alx</th>\n",
       "      <th>aly</th>\n",
       "      <th>alz</th>\n",
       "      <th>glx</th>\n",
       "      <th>gly</th>\n",
       "      <th>glz</th>\n",
       "      <th>arx</th>\n",
       "      <th>ary</th>\n",
       "      <th>arz</th>\n",
       "      <th>grx</th>\n",
       "      <th>gry</th>\n",
       "      <th>grz</th>\n",
       "      <th>Activity</th>\n",
       "      <th>subject</th>\n",
       "    </tr>\n",
       "  </thead>\n",
       "  <tbody>\n",
       "    <tr>\n",
       "      <th>0</th>\n",
       "      <td>2.1849</td>\n",
       "      <td>-9.6967</td>\n",
       "      <td>0.63077</td>\n",
       "      <td>0.103900</td>\n",
       "      <td>-0.84053</td>\n",
       "      <td>-0.68762</td>\n",
       "      <td>-8.6499</td>\n",
       "      <td>-4.5781</td>\n",
       "      <td>0.187760</td>\n",
       "      <td>-0.449020</td>\n",
       "      <td>-1.01030</td>\n",
       "      <td>0.034483</td>\n",
       "      <td>0</td>\n",
       "      <td>subject1</td>\n",
       "    </tr>\n",
       "    <tr>\n",
       "      <th>1</th>\n",
       "      <td>2.3876</td>\n",
       "      <td>-9.5080</td>\n",
       "      <td>0.68389</td>\n",
       "      <td>0.085343</td>\n",
       "      <td>-0.83865</td>\n",
       "      <td>-0.68369</td>\n",
       "      <td>-8.6275</td>\n",
       "      <td>-4.3198</td>\n",
       "      <td>0.023595</td>\n",
       "      <td>-0.449020</td>\n",
       "      <td>-1.01030</td>\n",
       "      <td>0.034483</td>\n",
       "      <td>0</td>\n",
       "      <td>subject1</td>\n",
       "    </tr>\n",
       "    <tr>\n",
       "      <th>2</th>\n",
       "      <td>2.4086</td>\n",
       "      <td>-9.5674</td>\n",
       "      <td>0.68113</td>\n",
       "      <td>0.085343</td>\n",
       "      <td>-0.83865</td>\n",
       "      <td>-0.68369</td>\n",
       "      <td>-8.5055</td>\n",
       "      <td>-4.2772</td>\n",
       "      <td>0.275720</td>\n",
       "      <td>-0.449020</td>\n",
       "      <td>-1.01030</td>\n",
       "      <td>0.034483</td>\n",
       "      <td>0</td>\n",
       "      <td>subject1</td>\n",
       "    </tr>\n",
       "    <tr>\n",
       "      <th>3</th>\n",
       "      <td>2.1814</td>\n",
       "      <td>-9.4301</td>\n",
       "      <td>0.55031</td>\n",
       "      <td>0.085343</td>\n",
       "      <td>-0.83865</td>\n",
       "      <td>-0.68369</td>\n",
       "      <td>-8.6279</td>\n",
       "      <td>-4.3163</td>\n",
       "      <td>0.367520</td>\n",
       "      <td>-0.456860</td>\n",
       "      <td>-1.00820</td>\n",
       "      <td>0.025862</td>\n",
       "      <td>0</td>\n",
       "      <td>subject1</td>\n",
       "    </tr>\n",
       "    <tr>\n",
       "      <th>4</th>\n",
       "      <td>2.4173</td>\n",
       "      <td>-9.3889</td>\n",
       "      <td>0.71098</td>\n",
       "      <td>0.085343</td>\n",
       "      <td>-0.83865</td>\n",
       "      <td>-0.68369</td>\n",
       "      <td>-8.7008</td>\n",
       "      <td>-4.1459</td>\n",
       "      <td>0.407290</td>\n",
       "      <td>-0.456860</td>\n",
       "      <td>-1.00820</td>\n",
       "      <td>0.025862</td>\n",
       "      <td>0</td>\n",
       "      <td>subject1</td>\n",
       "    </tr>\n",
       "    <tr>\n",
       "      <th>...</th>\n",
       "      <td>...</td>\n",
       "      <td>...</td>\n",
       "      <td>...</td>\n",
       "      <td>...</td>\n",
       "      <td>...</td>\n",
       "      <td>...</td>\n",
       "      <td>...</td>\n",
       "      <td>...</td>\n",
       "      <td>...</td>\n",
       "      <td>...</td>\n",
       "      <td>...</td>\n",
       "      <td>...</td>\n",
       "      <td>...</td>\n",
       "      <td>...</td>\n",
       "    </tr>\n",
       "    <tr>\n",
       "      <th>1215740</th>\n",
       "      <td>1.7849</td>\n",
       "      <td>-9.8287</td>\n",
       "      <td>0.29725</td>\n",
       "      <td>-0.341370</td>\n",
       "      <td>-0.90056</td>\n",
       "      <td>-0.61493</td>\n",
       "      <td>-3.7198</td>\n",
       "      <td>-8.9071</td>\n",
       "      <td>0.294230</td>\n",
       "      <td>0.041176</td>\n",
       "      <td>-0.99384</td>\n",
       "      <td>-0.480600</td>\n",
       "      <td>0</td>\n",
       "      <td>subject10</td>\n",
       "    </tr>\n",
       "    <tr>\n",
       "      <th>1215741</th>\n",
       "      <td>1.8687</td>\n",
       "      <td>-9.8766</td>\n",
       "      <td>0.46236</td>\n",
       "      <td>-0.341370</td>\n",
       "      <td>-0.90056</td>\n",
       "      <td>-0.61493</td>\n",
       "      <td>-3.7160</td>\n",
       "      <td>-8.7455</td>\n",
       "      <td>0.448140</td>\n",
       "      <td>0.041176</td>\n",
       "      <td>-0.99384</td>\n",
       "      <td>-0.480600</td>\n",
       "      <td>0</td>\n",
       "      <td>subject10</td>\n",
       "    </tr>\n",
       "    <tr>\n",
       "      <th>1215742</th>\n",
       "      <td>1.6928</td>\n",
       "      <td>-9.9290</td>\n",
       "      <td>0.16631</td>\n",
       "      <td>-0.341370</td>\n",
       "      <td>-0.90056</td>\n",
       "      <td>-0.61493</td>\n",
       "      <td>-3.8824</td>\n",
       "      <td>-9.1155</td>\n",
       "      <td>0.450480</td>\n",
       "      <td>0.041176</td>\n",
       "      <td>-0.99384</td>\n",
       "      <td>-0.480600</td>\n",
       "      <td>0</td>\n",
       "      <td>subject10</td>\n",
       "    </tr>\n",
       "    <tr>\n",
       "      <th>1215743</th>\n",
       "      <td>1.5279</td>\n",
       "      <td>-9.6306</td>\n",
       "      <td>0.30458</td>\n",
       "      <td>-0.341370</td>\n",
       "      <td>-0.90056</td>\n",
       "      <td>-0.61493</td>\n",
       "      <td>-3.5564</td>\n",
       "      <td>-9.1441</td>\n",
       "      <td>0.594880</td>\n",
       "      <td>0.041176</td>\n",
       "      <td>-0.99384</td>\n",
       "      <td>-0.480600</td>\n",
       "      <td>0</td>\n",
       "      <td>subject10</td>\n",
       "    </tr>\n",
       "    <tr>\n",
       "      <th>1215744</th>\n",
       "      <td>1.6614</td>\n",
       "      <td>-9.8398</td>\n",
       "      <td>0.18088</td>\n",
       "      <td>-0.332100</td>\n",
       "      <td>-0.90432</td>\n",
       "      <td>-0.61886</td>\n",
       "      <td>-3.9035</td>\n",
       "      <td>-8.9324</td>\n",
       "      <td>0.761710</td>\n",
       "      <td>0.035294</td>\n",
       "      <td>-1.02050</td>\n",
       "      <td>-0.471980</td>\n",
       "      <td>0</td>\n",
       "      <td>subject10</td>\n",
       "    </tr>\n",
       "  </tbody>\n",
       "</table>\n",
       "<p>1215745 rows × 14 columns</p>\n",
       "</div>"
      ],
      "text/plain": [
       "            alx     aly      alz       glx      gly      glz     arx     ary  \\\n",
       "0        2.1849 -9.6967  0.63077  0.103900 -0.84053 -0.68762 -8.6499 -4.5781   \n",
       "1        2.3876 -9.5080  0.68389  0.085343 -0.83865 -0.68369 -8.6275 -4.3198   \n",
       "2        2.4086 -9.5674  0.68113  0.085343 -0.83865 -0.68369 -8.5055 -4.2772   \n",
       "3        2.1814 -9.4301  0.55031  0.085343 -0.83865 -0.68369 -8.6279 -4.3163   \n",
       "4        2.4173 -9.3889  0.71098  0.085343 -0.83865 -0.68369 -8.7008 -4.1459   \n",
       "...         ...     ...      ...       ...      ...      ...     ...     ...   \n",
       "1215740  1.7849 -9.8287  0.29725 -0.341370 -0.90056 -0.61493 -3.7198 -8.9071   \n",
       "1215741  1.8687 -9.8766  0.46236 -0.341370 -0.90056 -0.61493 -3.7160 -8.7455   \n",
       "1215742  1.6928 -9.9290  0.16631 -0.341370 -0.90056 -0.61493 -3.8824 -9.1155   \n",
       "1215743  1.5279 -9.6306  0.30458 -0.341370 -0.90056 -0.61493 -3.5564 -9.1441   \n",
       "1215744  1.6614 -9.8398  0.18088 -0.332100 -0.90432 -0.61886 -3.9035 -8.9324   \n",
       "\n",
       "              arz       grx      gry       grz  Activity    subject  \n",
       "0        0.187760 -0.449020 -1.01030  0.034483         0   subject1  \n",
       "1        0.023595 -0.449020 -1.01030  0.034483         0   subject1  \n",
       "2        0.275720 -0.449020 -1.01030  0.034483         0   subject1  \n",
       "3        0.367520 -0.456860 -1.00820  0.025862         0   subject1  \n",
       "4        0.407290 -0.456860 -1.00820  0.025862         0   subject1  \n",
       "...           ...       ...      ...       ...       ...        ...  \n",
       "1215740  0.294230  0.041176 -0.99384 -0.480600         0  subject10  \n",
       "1215741  0.448140  0.041176 -0.99384 -0.480600         0  subject10  \n",
       "1215742  0.450480  0.041176 -0.99384 -0.480600         0  subject10  \n",
       "1215743  0.594880  0.041176 -0.99384 -0.480600         0  subject10  \n",
       "1215744  0.761710  0.035294 -1.02050 -0.471980         0  subject10  \n",
       "\n",
       "[1215745 rows x 14 columns]"
      ]
     },
     "execution_count": 4,
     "metadata": {},
     "output_type": "execute_result"
    }
   ],
   "source": [
    "df = pd.read_csv('C:/Niveda/Jupyter projects/Mhealth_full/mhealth_raw_data.csv')\n",
    "df"
   ]
  },
  {
   "cell_type": "code",
   "execution_count": 5,
   "id": "9d797e60",
   "metadata": {},
   "outputs": [
    {
     "data": {
      "text/plain": [
       "1     30720\n",
       "2     30720\n",
       "3     30720\n",
       "4     30720\n",
       "9     30720\n",
       "10    30720\n",
       "11    30720\n",
       "5     30720\n",
       "0     30000\n",
       "7     29441\n",
       "8     29337\n",
       "6     28315\n",
       "12    10342\n",
       "Name: Activity, dtype: int64"
      ]
     },
     "execution_count": 5,
     "metadata": {},
     "output_type": "execute_result"
    }
   ],
   "source": [
    "from sklearn.utils import resample\n",
    " \n",
    "df_majority = df[df.Activity==0]\n",
    "df_minorities = df[df.Activity!=0]\n",
    " \n",
    "df_majority_downsampled = resample(df_majority,n_samples=30000, random_state=42)\n",
    "df = pd.concat([df_majority_downsampled, df_minorities])\n",
    "df.Activity.value_counts()"
   ]
  },
  {
   "cell_type": "code",
   "execution_count": 6,
   "id": "68eca9a8",
   "metadata": {},
   "outputs": [
    {
     "name": "stdout",
     "output_type": "stream",
     "text": [
      "alx range: -11.47312 to 19.233\n",
      "shape (365733, 14)\n",
      "aly range: -19.379 to 2.447871999999997\n",
      "shape (360018, 14)\n",
      "alz range: -18.95 to 14.19623999999999\n",
      "shape (356270, 14)\n",
      "glx range: -0.74212 to 0.80705\n",
      "shape (349377, 14)\n",
      "gly range: -1.0694 to 0.96623\n",
      "shape (342841, 14)\n",
      "glz range: -1.1061 to 0.8290799999999999\n",
      "shape (337391, 14)\n",
      "arx range: -21.492 to 9.097647999999998\n",
      "shape (332307, 14)\n",
      "ary range: -18.694000000000003 to 11.948059999999998\n",
      "shape (326241, 14)\n",
      "arz range: -10.367 to 11.823119999999996\n",
      "shape (323674, 14)\n",
      "grx range: -1.0196 to 0.95686\n",
      "shape (320188, 14)\n",
      "gry range: -1.1417 to 0.90965\n",
      "shape (315352, 14)\n",
      "grz range: -0.69828 to 1.125\n",
      "shape (310929, 14)\n"
     ]
    }
   ],
   "source": [
    "df1 = df.copy()\n",
    "for feature in df1.columns[:-2]:\n",
    "  lower_range = np.quantile(df[feature],0.01)\n",
    "  upper_range = np.quantile(df[feature],0.99)\n",
    "  print(feature,'range:',lower_range,'to',upper_range)\n",
    "\n",
    "  df1 = df1.drop(df1[(df1[feature]>upper_range) | (df1[feature]<lower_range)].index, axis=0)\n",
    "  print('shape',df1.shape)"
   ]
  },
  {
   "cell_type": "code",
   "execution_count": 7,
   "id": "dad43357",
   "metadata": {},
   "outputs": [],
   "source": [
    "label_map = {\n",
    "    0: 'Nothing',\n",
    "    1: 'Standing still',  \n",
    "    2: 'Sitting and relaxing', \n",
    "    3: 'Lying down',  \n",
    "    4: 'Walking',  \n",
    "    5: 'Climbing stairs',  \n",
    "    6: 'Waist bends forward',\n",
    "    7: 'Frontal elevation of arms', \n",
    "    8: 'Knees bending (crouching)', \n",
    "    9: 'Cycling', \n",
    "    10: 'Jogging', \n",
    "    11: 'Running', \n",
    "    12: 'Jump front & back' \n",
    "}"
   ]
  },
  {
   "cell_type": "code",
   "execution_count": 8,
   "id": "66ce70e5",
   "metadata": {},
   "outputs": [
    {
     "name": "stdout",
     "output_type": "stream",
     "text": [
      "(310929, 14)\n"
     ]
    },
    {
     "data": {
      "text/plain": [
       "((246501, 14), (64428, 14))"
      ]
     },
     "execution_count": 8,
     "metadata": {},
     "output_type": "execute_result"
    }
   ],
   "source": [
    "print(df1.shape)\n",
    "train = df1[(df1['subject'] != 'subject10') & (df1['subject'] != 'subject9')]\n",
    "test = df1.drop(train.index, axis=0)\n",
    "train.shape,test.shape\n",
    "#taking subject 9 and 10 as test data"
   ]
  },
  {
   "cell_type": "code",
   "execution_count": 9,
   "id": "e4665342",
   "metadata": {},
   "outputs": [
    {
     "data": {
      "text/plain": [
       "((246501, 12), (246501,), (64428, 12), (64428,))"
      ]
     },
     "execution_count": 9,
     "metadata": {},
     "output_type": "execute_result"
    }
   ],
   "source": [
    "X_train = train.drop(['Activity','subject'],axis=1)\n",
    "y_train = train['Activity']\n",
    "X_test = test.drop(['Activity','subject'],axis=1)\n",
    "y_test = test['Activity']\n",
    "X_train.shape,y_train.shape,X_test.shape,y_test.shape"
   ]
  },
  {
   "cell_type": "code",
   "execution_count": 10,
   "id": "1eb0dac1",
   "metadata": {},
   "outputs": [],
   "source": [
    "from scipy import stats\n",
    "\n",
    "#function to create time series datset for seuence modeling\n",
    "def create_dataset(X, y, time_steps, step=1):\n",
    "    Xs, ys = [], []\n",
    "    for i in range(0, len(X) - time_steps, step):\n",
    "        x = X.iloc[i:(i + time_steps)].values\n",
    "        labels = y.iloc[i: i + time_steps]\n",
    "        Xs.append(x)\n",
    "        ys.append(stats.mode(labels)[0][0])\n",
    "    return np.array(Xs), np.array(ys).reshape(-1, 1)"
   ]
  },
  {
   "cell_type": "code",
   "execution_count": 11,
   "id": "3a4c8e42",
   "metadata": {},
   "outputs": [
    {
     "name": "stderr",
     "output_type": "stream",
     "text": [
      "C:\\Users\\nived\\AppData\\Local\\Temp\\ipykernel_18064\\1935378417.py:10: FutureWarning: Unlike other reduction functions (e.g. `skew`, `kurtosis`), the default behavior of `mode` typically preserves the axis it acts along. In SciPy 1.11.0, this behavior will change: the default value of `keepdims` will become False, the `axis` over which the statistic is taken will be eliminated, and the value None will no longer be accepted. Set `keepdims` to True or False to avoid this warning.\n",
      "  ys.append(stats.mode(labels)[0][0])\n"
     ]
    },
    {
     "data": {
      "text/plain": [
       "((4929, 100, 12), (4929, 1))"
      ]
     },
     "execution_count": 11,
     "metadata": {},
     "output_type": "execute_result"
    }
   ],
   "source": [
    "X_train,y_train = create_dataset(X_train, y_train, 100, step=50)\n",
    "X_train.shape, y_train.shape"
   ]
  },
  {
   "cell_type": "code",
   "execution_count": 12,
   "id": "cc581ab4",
   "metadata": {},
   "outputs": [
    {
     "name": "stderr",
     "output_type": "stream",
     "text": [
      "C:\\Users\\nived\\AppData\\Local\\Temp\\ipykernel_18064\\1935378417.py:10: FutureWarning: Unlike other reduction functions (e.g. `skew`, `kurtosis`), the default behavior of `mode` typically preserves the axis it acts along. In SciPy 1.11.0, this behavior will change: the default value of `keepdims` will become False, the `axis` over which the statistic is taken will be eliminated, and the value None will no longer be accepted. Set `keepdims` to True or False to avoid this warning.\n",
      "  ys.append(stats.mode(labels)[0][0])\n"
     ]
    },
    {
     "data": {
      "text/plain": [
       "((1287, 100, 12), (1287, 1))"
      ]
     },
     "execution_count": 12,
     "metadata": {},
     "output_type": "execute_result"
    }
   ],
   "source": [
    "X_test,y_test = create_dataset(X_test, y_test, 100, step=50)\n",
    "X_test.shape, y_test.shape"
   ]
  },
  {
   "cell_type": "code",
   "execution_count": 43,
   "id": "59cf4412",
   "metadata": {},
   "outputs": [
    {
     "name": "stdout",
     "output_type": "stream",
     "text": [
      "Model: \"sequential_4\"\n",
      "_________________________________________________________________\n",
      " Layer (type)                Output Shape              Param #   \n",
      "=================================================================\n",
      " conv1d_5 (Conv1D)           (None, 100, 32)           1184      \n",
      "                                                                 \n",
      " batch_normalization_5 (Batc  (None, 100, 32)          128       \n",
      " hNormalization)                                                 \n",
      "                                                                 \n",
      " re_lu_4 (ReLU)              (None, 100, 32)           0         \n",
      "                                                                 \n",
      " conv1d_6 (Conv1D)           (None, 100, 64)           6208      \n",
      "                                                                 \n",
      " batch_normalization_6 (Batc  (None, 100, 64)          256       \n",
      " hNormalization)                                                 \n",
      "                                                                 \n",
      " re_lu_5 (ReLU)              (None, 100, 64)           0         \n",
      "                                                                 \n",
      " max_pooling1d_2 (MaxPooling  (None, 50, 64)           0         \n",
      " 1D)                                                             \n",
      "                                                                 \n",
      " dropout_1 (Dropout)         (None, 50, 64)            0         \n",
      "                                                                 \n",
      " lstm_2 (LSTM)               (None, 64)                33024     \n",
      "                                                                 \n",
      " dense_4 (Dense)             (None, 128)               8320      \n",
      "                                                                 \n",
      " dropout_2 (Dropout)         (None, 128)               0         \n",
      "                                                                 \n",
      " dense_5 (Dense)             (None, 13)                1677      \n",
      "                                                                 \n",
      "=================================================================\n",
      "Total params: 50,797\n",
      "Trainable params: 50,605\n",
      "Non-trainable params: 192\n",
      "_________________________________________________________________\n"
     ]
    }
   ],
   "source": [
    "model = keras.Sequential()\n",
    "model.add(layers.Input(shape=[100,12]))\n",
    "model.add(layers.Conv1D(filters=32, kernel_size=3, padding=\"same\"))\n",
    "model.add(layers.BatchNormalization())\n",
    "model.add(layers.ReLU())\n",
    "model.add(layers.Conv1D(filters=64, kernel_size=3, padding=\"same\"))\n",
    "model.add(layers.BatchNormalization())\n",
    "model.add(layers.ReLU())\n",
    "model.add(layers.MaxPool1D(2))\n",
    "model.add(layers.LSTM(64))\n",
    "model.add(layers.Dense(units=128, activation='relu'))\n",
    "model.add(layers.Dense(13, activation='softmax'))\n",
    "model.summary()"
   ]
  },
  {
   "cell_type": "code",
   "execution_count": 44,
   "id": "91ec927e",
   "metadata": {},
   "outputs": [
    {
     "name": "stdout",
     "output_type": "stream",
     "text": [
      "Epoch 1/10\n",
      "155/155 [==============================] - 8s 36ms/step - loss: 0.9138 - sparse_categorical_accuracy: 0.7060 - val_loss: 2.5283 - val_sparse_categorical_accuracy: 0.3893\n",
      "Epoch 2/10\n",
      "155/155 [==============================] - 6s 36ms/step - loss: 0.2756 - sparse_categorical_accuracy: 0.9093 - val_loss: 0.7932 - val_sparse_categorical_accuracy: 0.7343\n",
      "Epoch 3/10\n",
      "155/155 [==============================] - 6s 36ms/step - loss: 0.2062 - sparse_categorical_accuracy: 0.9345 - val_loss: 0.1785 - val_sparse_categorical_accuracy: 0.9503\n",
      "Epoch 4/10\n",
      "155/155 [==============================] - 6s 36ms/step - loss: 0.1389 - sparse_categorical_accuracy: 0.9596 - val_loss: 0.0951 - val_sparse_categorical_accuracy: 0.9744\n",
      "Epoch 5/10\n",
      "155/155 [==============================] - 6s 36ms/step - loss: 0.1225 - sparse_categorical_accuracy: 0.9619 - val_loss: 0.3224 - val_sparse_categorical_accuracy: 0.9332\n",
      "Epoch 6/10\n",
      "155/155 [==============================] - 6s 36ms/step - loss: 0.1179 - sparse_categorical_accuracy: 0.9665 - val_loss: 0.3338 - val_sparse_categorical_accuracy: 0.9130\n",
      "Epoch 7/10\n",
      "155/155 [==============================] - 6s 36ms/step - loss: 0.0823 - sparse_categorical_accuracy: 0.9785 - val_loss: 0.2078 - val_sparse_categorical_accuracy: 0.9239\n",
      "Epoch 8/10\n",
      "155/155 [==============================] - 6s 37ms/step - loss: 0.0949 - sparse_categorical_accuracy: 0.9726 - val_loss: 0.1095 - val_sparse_categorical_accuracy: 0.9681\n",
      "Epoch 9/10\n",
      "155/155 [==============================] - 6s 37ms/step - loss: 0.1030 - sparse_categorical_accuracy: 0.9684 - val_loss: 0.0363 - val_sparse_categorical_accuracy: 0.9876\n",
      "Epoch 10/10\n",
      "155/155 [==============================] - 6s 37ms/step - loss: 0.0984 - sparse_categorical_accuracy: 0.9714 - val_loss: 0.0964 - val_sparse_categorical_accuracy: 0.9355\n"
     ]
    }
   ],
   "source": [
    "callbacks = [keras.callbacks.ModelCheckpoint(\"mhealth_best.h5\", save_best_only=True, monitor=\"val_loss\"),\n",
    "             keras.callbacks.EarlyStopping(monitor=\"val_loss\", patience=50, verbose=1)]\n",
    " \n",
    "model.compile(optimizer=\"adam\", loss=\"sparse_categorical_crossentropy\", metrics=[\"sparse_categorical_accuracy\"],)\n",
    " \n",
    "model_history = model.fit(X_train,y_train, epochs= 10, validation_data=(X_test,y_test), callbacks=callbacks)"
   ]
  },
  {
   "cell_type": "code",
   "execution_count": 17,
   "id": "5fa92ec3",
   "metadata": {},
   "outputs": [
    {
     "data": {
      "image/png": "[encoded data removed]",
      "text/plain": [
       "<Figure size 1200x600 with 2 Axes>"
      ]
     },
     "metadata": {},
     "output_type": "display_data"
    }
   ],
   "source": [
    "train_loss = model_history.history['loss']\n",
    "val_loss = model_history.history['val_loss']\n",
    "train_accuracy = model_history.history['sparse_categorical_accuracy']\n",
    "val_accuracy = model_history.history['val_sparse_categorical_accuracy']\n",
    "\n",
    "plt.figure(figsize=(12,6))\n",
    "\n",
    "plt.subplot(1,2,1)\n",
    "plt.plot(train_loss, 'r', label='Training loss')\n",
    "plt.plot(val_loss, 'b', label='Validation loss')\n",
    "plt.title('Training and Validation Loss')\n",
    "plt.xlabel('Epoch')\n",
    "plt.ylabel('Loss Value')\n",
    "plt.legend()\n",
    "\n",
    "plt.subplot(1,2,2)\n",
    "plt.plot(train_accuracy, 'r', label='Training Accuracy')\n",
    "plt.plot(val_accuracy, 'b', label='Validation Accuracy')\n",
    "plt.title('Training and Validation Accuracy')\n",
    "plt.xlabel('Epoch')\n",
    "plt.ylabel('Accuracy')\n",
    "plt.legend()\n",
    "\n",
    "plt.show()"
   ]
  },
  {
   "cell_type": "code",
   "execution_count": 18,
   "id": "4e81ad25",
   "metadata": {},
   "outputs": [
    {
     "name": "stdout",
     "output_type": "stream",
     "text": [
      "155/155 [==============================] - 2s 11ms/step - loss: 0.0180 - sparse_categorical_accuracy: 0.9951\n",
      "41/41 [==============================] - 0s 11ms/step - loss: 0.0280 - sparse_categorical_accuracy: 0.9899\n",
      "Train accuracy 99.51 %\n",
      "Train loss 0.017970645800232887\n",
      "Test accuracy 98.99 %\n",
      "Test loss 0.027989592403173447\n"
     ]
    }
   ],
   "source": [
    "model = keras.models.load_model('./mhealth_best.h5')\n",
    "\n",
    "train_loss, train_acc = model.evaluate(X_train,y_train)\n",
    "test_loss, test_acc = model.evaluate(X_test,y_test)\n",
    "\n",
    "print(\"Train accuracy\", round(train_acc*100, 2),'%')\n",
    "print(\"Train loss\", train_loss)\n",
    "print(\"Test accuracy\", round(test_acc*100, 2),'%')\n",
    "print(\"Test loss\", test_loss)"
   ]
  },
  {
   "cell_type": "code",
   "execution_count": 19,
   "id": "b93c0cff",
   "metadata": {},
   "outputs": [
    {
     "name": "stdout",
     "output_type": "stream",
     "text": [
      "41/41 [==============================] - 1s 10ms/step\n"
     ]
    }
   ],
   "source": [
    "pred = model.predict(X_test)\n",
    "pred = np.argmax(pred, axis = 1)\n",
    "pred = pred.reshape(-1,1)"
   ]
  },
  {
   "cell_type": "code",
   "execution_count": 20,
   "id": "32a7786f",
   "metadata": {},
   "outputs": [
    {
     "data": {
      "text/plain": [
       "((1287, 1), (1287, 1))"
      ]
     },
     "execution_count": 20,
     "metadata": {},
     "output_type": "execute_result"
    }
   ],
   "source": [
    "pred.shape,y_test.shape"
   ]
  },
  {
   "cell_type": "code",
   "execution_count": 21,
   "id": "b8538629",
   "metadata": {},
   "outputs": [
    {
     "name": "stdout",
     "output_type": "stream",
     "text": [
      "              precision    recall  f1-score   support\n",
      "\n",
      "           0       0.99      1.00      0.99        92\n",
      "           1       0.99      0.99      0.99       123\n",
      "           2       0.99      0.99      0.99       123\n",
      "           3       1.00      0.99      1.00       122\n",
      "           4       0.99      1.00      1.00       120\n",
      "           5       1.00      1.00      1.00        84\n",
      "           6       0.96      0.97      0.97       106\n",
      "           7       0.99      0.99      0.99       112\n",
      "           8       0.99      0.97      0.98       116\n",
      "           9       0.99      0.99      0.99       121\n",
      "          10       0.98      1.00      0.99        89\n",
      "          11       1.00      0.98      0.99        52\n",
      "          12       1.00      1.00      1.00        27\n",
      "\n",
      "    accuracy                           0.99      1287\n",
      "   macro avg       0.99      0.99      0.99      1287\n",
      "weighted avg       0.99      0.99      0.99      1287\n",
      "\n",
      "**************************************************\n",
      "[[ 92   0   0   0   0   0   0   0   0   0   0   0   0]\n",
      " [  0 122   0   0   0   0   1   0   0   0   0   0   0]\n",
      " [  0   0 122   0   0   0   0   1   0   0   0   0   0]\n",
      " [  0   0   1 121   0   0   0   0   0   0   0   0   0]\n",
      " [  0   0   0   0 120   0   0   0   0   0   0   0   0]\n",
      " [  0   0   0   0   0  84   0   0   0   0   0   0   0]\n",
      " [  1   1   0   0   1   0 103   0   0   0   0   0   0]\n",
      " [  0   0   0   0   0   0   0 111   1   0   0   0   0]\n",
      " [  0   0   0   0   0   0   3   0 112   1   0   0   0]\n",
      " [  0   0   0   0   0   0   0   0   0 120   1   0   0]\n",
      " [  0   0   0   0   0   0   0   0   0   0  89   0   0]\n",
      " [  0   0   0   0   0   0   0   0   0   0   1  51   0]\n",
      " [  0   0   0   0   0   0   0   0   0   0   0   0  27]]\n"
     ]
    }
   ],
   "source": [
    "from sklearn.metrics import confusion_matrix, classification_report\n",
    " \n",
    "print(classification_report(y_test,pred))\n",
    "print('*'*50)\n",
    "print(confusion_matrix(y_test,pred))"
   ]
  },
  {
   "cell_type": "code",
   "execution_count": 26,
   "id": "afa20497",
   "metadata": {},
   "outputs": [],
   "source": [
    "from keras.models import Sequential,Model\n",
    "from keras.layers import Conv2D,Conv1D\n",
    "from keras.layers import MaxPooling2D,MaxPooling1D\n",
    "from keras.layers import Flatten\n",
    "from keras.layers import Dense,SimpleRNN,Dropout,Reshape\n",
    "import tensorflow as tf"
   ]
  },
  {
   "cell_type": "code",
   "execution_count": 68,
   "id": "3b999705",
   "metadata": {},
   "outputs": [],
   "source": [
    "feature_extractor = keras.Sequential()\n",
    "feature_extractor.add(layers.Input(shape=[100,12]))\n",
    "feature_extractor.add(layers.Conv1D(filters=32, kernel_size=3, padding=\"same\"))\n",
    "feature_extractor.add(layers.BatchNormalization())\n",
    "feature_extractor.add(layers.ReLU())\n",
    "feature_extractor.add(layers.Conv1D(filters=64, kernel_size=3, padding=\"same\"))\n",
    "feature_extractor.add(layers.BatchNormalization())\n",
    "feature_extractor.add(layers.ReLU())\n",
    "feature_extractor.add(layers.MaxPool1D(2))\n",
    "feature_extractor.add(layers.LSTM(64))\n",
    "feature_extractor.add(Dense(units=128, activation='relu'))"
   ]
  },
  {
   "cell_type": "code",
   "execution_count": 69,
   "id": "f8e847af",
   "metadata": {},
   "outputs": [],
   "source": [
    "x=feature_extractor.output\n",
    "#x=Dense(units=128, activation='relu')(x)\n",
    "prediction_layer=Dense(13, activation='softmax')(x)"
   ]
  },
  {
   "cell_type": "code",
   "execution_count": 70,
   "id": "e174e04e",
   "metadata": {},
   "outputs": [
    {
     "name": "stdout",
     "output_type": "stream",
     "text": [
      "Model: \"model_1\"\n",
      "_________________________________________________________________\n",
      " Layer (type)                Output Shape              Param #   \n",
      "=================================================================\n",
      " input_5 (InputLayer)        [(None, 100, 12)]         0         \n",
      "                                                                 \n",
      " conv1d_7 (Conv1D)           (None, 100, 32)           1184      \n",
      "                                                                 \n",
      " batch_normalization_7 (Batc  (None, 100, 32)          128       \n",
      " hNormalization)                                                 \n",
      "                                                                 \n",
      " re_lu_6 (ReLU)              (None, 100, 32)           0         \n",
      "                                                                 \n",
      " conv1d_8 (Conv1D)           (None, 100, 64)           6208      \n",
      "                                                                 \n",
      " batch_normalization_8 (Batc  (None, 100, 64)          256       \n",
      " hNormalization)                                                 \n",
      "                                                                 \n",
      " re_lu_7 (ReLU)              (None, 100, 64)           0         \n",
      "                                                                 \n",
      " max_pooling1d_3 (MaxPooling  (None, 50, 64)           0         \n",
      " 1D)                                                             \n",
      "                                                                 \n",
      " lstm_3 (LSTM)               (None, 64)                33024     \n",
      "                                                                 \n",
      " dense_6 (Dense)             (None, 128)               8320      \n",
      "                                                                 \n",
      " dense_7 (Dense)             (None, 13)                1677      \n",
      "                                                                 \n",
      "=================================================================\n",
      "Total params: 50,797\n",
      "Trainable params: 50,605\n",
      "Non-trainable params: 192\n",
      "_________________________________________________________________\n"
     ]
    }
   ],
   "source": [
    "cnn_model=Model(inputs=feature_extractor.input,outputs=prediction_layer)\n",
    "cnn_model.compile(optimizer=\"adam\", loss=\"sparse_categorical_crossentropy\", metrics=[\"sparse_categorical_accuracy\"],)\n",
    "cnn_model.summary()"
   ]
  },
  {
   "cell_type": "code",
   "execution_count": 71,
   "id": "e89f8bc0",
   "metadata": {},
   "outputs": [
    {
     "name": "stdout",
     "output_type": "stream",
     "text": [
      "Epoch 1/10\n",
      "155/155 [==============================] - 11s 47ms/step - loss: 0.7319 - sparse_categorical_accuracy: 0.7744 - val_loss: 2.0256 - val_sparse_categorical_accuracy: 0.5144\n",
      "Epoch 2/10\n",
      "155/155 [==============================] - 6s 41ms/step - loss: 0.1772 - sparse_categorical_accuracy: 0.9462 - val_loss: 0.3384 - val_sparse_categorical_accuracy: 0.8679\n",
      "Epoch 3/10\n",
      "155/155 [==============================] - 5s 34ms/step - loss: 0.1500 - sparse_categorical_accuracy: 0.9560 - val_loss: 0.4756 - val_sparse_categorical_accuracy: 0.8430\n",
      "Epoch 4/10\n",
      "155/155 [==============================] - 5s 33ms/step - loss: 0.0938 - sparse_categorical_accuracy: 0.9732 - val_loss: 0.3767 - val_sparse_categorical_accuracy: 0.8516\n",
      "Epoch 5/10\n",
      "155/155 [==============================] - 5s 33ms/step - loss: 0.0864 - sparse_categorical_accuracy: 0.9728 - val_loss: 0.5194 - val_sparse_categorical_accuracy: 0.9052\n",
      "Epoch 6/10\n",
      "155/155 [==============================] - 5s 33ms/step - loss: 0.1706 - sparse_categorical_accuracy: 0.9505 - val_loss: 0.2432 - val_sparse_categorical_accuracy: 0.9277\n",
      "Epoch 7/10\n",
      "155/155 [==============================] - 5s 33ms/step - loss: 0.2086 - sparse_categorical_accuracy: 0.9397 - val_loss: 0.1324 - val_sparse_categorical_accuracy: 0.9402\n",
      "Epoch 8/10\n",
      "155/155 [==============================] - 5s 32ms/step - loss: 0.0627 - sparse_categorical_accuracy: 0.9807 - val_loss: 0.0476 - val_sparse_categorical_accuracy: 0.9883\n",
      "Epoch 9/10\n",
      "155/155 [==============================] - 5s 33ms/step - loss: 0.0737 - sparse_categorical_accuracy: 0.9801 - val_loss: 0.4576 - val_sparse_categorical_accuracy: 0.9005\n",
      "Epoch 10/10\n",
      "155/155 [==============================] - 5s 34ms/step - loss: 0.0711 - sparse_categorical_accuracy: 0.9785 - val_loss: 0.1404 - val_sparse_categorical_accuracy: 0.9425\n"
     ]
    }
   ],
   "source": [
    "history=cnn_model.fit(X_train,y_train, epochs= 10, validation_data=(X_test,y_test), callbacks=callbacks)"
   ]
  },
  {
   "cell_type": "code",
   "execution_count": 72,
   "id": "e83f403f",
   "metadata": {},
   "outputs": [
    {
     "name": "stdout",
     "output_type": "stream",
     "text": [
      "155/155 [==============================] - 3s 15ms/step\n"
     ]
    }
   ],
   "source": [
    "X_for_RF=feature_extractor.predict(X_train)"
   ]
  },
  {
   "cell_type": "code",
   "execution_count": 73,
   "id": "482df1f6",
   "metadata": {},
   "outputs": [
    {
     "data": {
      "text/plain": [
       "(4929, 128)"
      ]
     },
     "execution_count": 73,
     "metadata": {},
     "output_type": "execute_result"
    }
   ],
   "source": [
    "X_for_RF.shape"
   ]
  },
  {
   "cell_type": "code",
   "execution_count": 31,
   "id": "6205294f",
   "metadata": {},
   "outputs": [],
   "source": [
    "from sklearn.ensemble import RandomForestClassifier"
   ]
  },
  {
   "cell_type": "code",
   "execution_count": 74,
   "id": "5eac118c",
   "metadata": {},
   "outputs": [],
   "source": [
    "RF_model = RandomForestClassifier(random_state=42, n_estimators=50)\n",
    "RF_model = RF_model.fit(X_for_RF, y_train.ravel())"
   ]
  },
  {
   "cell_type": "code",
   "execution_count": 75,
   "id": "8696ffb9",
   "metadata": {},
   "outputs": [
    {
     "name": "stdout",
     "output_type": "stream",
     "text": [
      "41/41 [==============================] - 1s 16ms/step\n"
     ]
    }
   ],
   "source": [
    "X_test_feature=feature_extractor.predict(X_test)\n",
    "prediction_RF=RF_model.predict(X_test_feature)"
   ]
  },
  {
   "cell_type": "code",
   "execution_count": 76,
   "id": "6a1a5a45",
   "metadata": {},
   "outputs": [
    {
     "name": "stdout",
     "output_type": "stream",
     "text": [
      "0.9432789432789432\n"
     ]
    }
   ],
   "source": [
    "print(accuracy_score(y_test,prediction_RF)) "
   ]
  },
  {
   "cell_type": "code",
   "execution_count": 77,
   "id": "fadfa7a2",
   "metadata": {},
   "outputs": [
    {
     "data": {
      "text/html": [
       "<style>#sk-container-id-6 {color: black;background-color: white;}#sk-container-id-6 pre{padding: 0;}#sk-container-id-6 div.sk-toggleable {background-color: white;}#sk-container-id-6 label.sk-toggleable__label {cursor: pointer;display: block;width: 100%;margin-bottom: 0;padding: 0.3em;box-sizing: border-box;text-align: center;}#sk-container-id-6 label.sk-toggleable__label-arrow:before {content: \"▸\";float: left;margin-right: 0.25em;color: #696969;}#sk-container-id-6 label.sk-toggleable__label-arrow:hover:before {color: black;}#sk-container-id-6 div.sk-estimator:hover label.sk-toggleable__label-arrow:before {color: black;}#sk-container-id-6 div.sk-toggleable__content {max-height: 0;max-width: 0;overflow: hidden;text-align: left;background-color: #f0f8ff;}#sk-container-id-6 div.sk-toggleable__content pre {margin: 0.2em;color: black;border-radius: 0.25em;background-color: #f0f8ff;}#sk-container-id-6 input.sk-toggleable__control:checked~div.sk-toggleable__content {max-height: 200px;max-width: 100%;overflow: auto;}#sk-container-id-6 input.sk-toggleable__control:checked~label.sk-toggleable__label-arrow:before {content: \"▾\";}#sk-container-id-6 div.sk-estimator input.sk-toggleable__control:checked~label.sk-toggleable__label {background-color: #d4ebff;}#sk-container-id-6 div.sk-label input.sk-toggleable__control:checked~label.sk-toggleable__label {background-color: #d4ebff;}#sk-container-id-6 input.sk-hidden--visually {border: 0;clip: rect(1px 1px 1px 1px);clip: rect(1px, 1px, 1px, 1px);height: 1px;margin: -1px;overflow: hidden;padding: 0;position: absolute;width: 1px;}#sk-container-id-6 div.sk-estimator {font-family: monospace;background-color: #f0f8ff;border: 1px dotted black;border-radius: 0.25em;box-sizing: border-box;margin-bottom: 0.5em;}#sk-container-id-6 div.sk-estimator:hover {background-color: #d4ebff;}#sk-container-id-6 div.sk-parallel-item::after {content: \"\";width: 100%;border-bottom: 1px solid gray;flex-grow: 1;}#sk-container-id-6 div.sk-label:hover label.sk-toggleable__label {background-color: #d4ebff;}#sk-container-id-6 div.sk-serial::before {content: \"\";position: absolute;border-left: 1px solid gray;box-sizing: border-box;top: 0;bottom: 0;left: 50%;z-index: 0;}#sk-container-id-6 div.sk-serial {display: flex;flex-direction: column;align-items: center;background-color: white;padding-right: 0.2em;padding-left: 0.2em;position: relative;}#sk-container-id-6 div.sk-item {position: relative;z-index: 1;}#sk-container-id-6 div.sk-parallel {display: flex;align-items: stretch;justify-content: center;background-color: white;position: relative;}#sk-container-id-6 div.sk-item::before, #sk-container-id-6 div.sk-parallel-item::before {content: \"\";position: absolute;border-left: 1px solid gray;box-sizing: border-box;top: 0;bottom: 0;left: 50%;z-index: -1;}#sk-container-id-6 div.sk-parallel-item {display: flex;flex-direction: column;z-index: 1;position: relative;background-color: white;}#sk-container-id-6 div.sk-parallel-item:first-child::after {align-self: flex-end;width: 50%;}#sk-container-id-6 div.sk-parallel-item:last-child::after {align-self: flex-start;width: 50%;}#sk-container-id-6 div.sk-parallel-item:only-child::after {width: 0;}#sk-container-id-6 div.sk-dashed-wrapped {border: 1px dashed gray;margin: 0 0.4em 0.5em 0.4em;box-sizing: border-box;padding-bottom: 0.4em;background-color: white;}#sk-container-id-6 div.sk-label label {font-family: monospace;font-weight: bold;display: inline-block;line-height: 1.2em;}#sk-container-id-6 div.sk-label-container {text-align: center;}#sk-container-id-6 div.sk-container {/* jupyter's `normalize.less` sets `[hidden] { display: none; }` but bootstrap.min.css set `[hidden] { display: none !important; }` so we also need the `!important` here to be able to override the default hidden behavior on the sphinx rendered scikit-learn.org. See: https://github.com/scikit-learn/scikit-learn/issues/21755 */display: inline-block !important;position: relative;}#sk-container-id-6 div.sk-text-repr-fallback {display: none;}</style><div id=\"sk-container-id-6\" class=\"sk-top-container\"><div class=\"sk-text-repr-fallback\"><pre>SVC()</pre><b>In a Jupyter environment, please rerun this cell to show the HTML representation or trust the notebook. <br />On GitHub, the HTML representation is unable to render, please try loading this page with nbviewer.org.</b></div><div class=\"sk-container\" hidden><div class=\"sk-item\"><div class=\"sk-estimator sk-toggleable\"><input class=\"sk-toggleable__control sk-hidden--visually\" id=\"sk-estimator-id-6\" type=\"checkbox\" checked><label for=\"sk-estimator-id-6\" class=\"sk-toggleable__label sk-toggleable__label-arrow\">SVC</label><div class=\"sk-toggleable__content\"><pre>SVC()</pre></div></div></div></div></div>"
      ],
      "text/plain": [
       "SVC()"
      ]
     },
     "execution_count": 77,
     "metadata": {},
     "output_type": "execute_result"
    }
   ],
   "source": [
    "from sklearn import svm\n",
    "svmclf=svm.SVC()\n",
    "svmclf.fit(X_for_RF,y_train.ravel())"
   ]
  },
  {
   "cell_type": "code",
   "execution_count": 78,
   "id": "a133e793",
   "metadata": {},
   "outputs": [
    {
     "name": "stdout",
     "output_type": "stream",
     "text": [
      "41/41 [==============================] - 1s 15ms/step\n"
     ]
    }
   ],
   "source": [
    "X_test_feature=feature_extractor.predict(X_test)\n",
    "prediction_svm=svmclf.predict(X_test_feature)"
   ]
  },
  {
   "cell_type": "code",
   "execution_count": 79,
   "id": "48eacd9d",
   "metadata": {},
   "outputs": [
    {
     "name": "stdout",
     "output_type": "stream",
     "text": [
      "0.9906759906759907\n"
     ]
    }
   ],
   "source": [
    "print(accuracy_score(y_test,prediction_svm)) "
   ]
  },
  {
   "cell_type": "code",
   "execution_count": 86,
   "id": "fff097a9",
   "metadata": {},
   "outputs": [
    {
     "name": "stdout",
     "output_type": "stream",
     "text": [
      "155/155 [==============================] - 3s 16ms/step\n"
     ]
    }
   ],
   "source": [
    "X_train_feature_train=feature_extractor.predict(X_train)\n",
    "prediction_svm_train=svmclf.predict(X_train_feature_train)"
   ]
  },
  {
   "cell_type": "code",
   "execution_count": 87,
   "id": "cb07842d",
   "metadata": {},
   "outputs": [
    {
     "name": "stdout",
     "output_type": "stream",
     "text": [
      "0.9955366200040576\n"
     ]
    }
   ],
   "source": [
    "print(accuracy_score(y_train,prediction_svm_train)) "
   ]
  }
 ],
 "metadata": {
  "kernelspec": {
   "display_name": "Python 3 (ipykernel)",
   "language": "python",
   "name": "python3"
  },
  "language_info": {
   "codemirror_mode": {
    "name": "ipython",
    "version": 3
   },
   "file_extension": ".py",
   "mimetype": "text/x-python",
   "name": "python",
   "nbconvert_exporter": "python",
   "pygments_lexer": "ipython3",
   "version": "3.10.10"
  }
 },
 "nbformat": 4,
 "nbformat_minor": 5
}
